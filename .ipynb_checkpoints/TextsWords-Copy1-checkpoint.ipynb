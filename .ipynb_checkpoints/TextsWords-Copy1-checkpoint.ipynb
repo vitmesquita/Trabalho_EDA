{
 "cells": [
  {
   "cell_type": "code",
   "execution_count": 6,
   "metadata": {},
   "outputs": [],
   "source": [
    "import re\n",
    "import string"
   ]
  },
  {
   "cell_type": "code",
   "execution_count": 8,
   "metadata": {},
   "outputs": [
    {
     "ename": "FileNotFoundError",
     "evalue": "[Errno 2] No such file or directory: 'englishText_0_10000'",
     "output_type": "error",
     "traceback": [
      "\u001b[0;31m---------------------------------------------------------------------------\u001b[0m",
      "\u001b[0;31mFileNotFoundError\u001b[0m                         Traceback (most recent call last)",
      "\u001b[0;32m<ipython-input-8-97c3e4b4874d>\u001b[0m in \u001b[0;36m<module>\u001b[0;34m()\u001b[0m\n\u001b[0;32m----> 1\u001b[0;31m \u001b[0mt1\u001b[0m\u001b[0;34m=\u001b[0m\u001b[0mopen\u001b[0m\u001b[0;34m(\u001b[0m\u001b[0;34m\"englishText_0_10000\"\u001b[0m\u001b[0;34m,\u001b[0m\u001b[0;34m'r'\u001b[0m\u001b[0;34m)\u001b[0m \u001b[0;31m#precisa rodar isso pra todos os textos\u001b[0m\u001b[0;34m\u001b[0m\u001b[0m\n\u001b[0m\u001b[1;32m      2\u001b[0m \u001b[0mt2\u001b[0m\u001b[0;34m=\u001b[0m\u001b[0mopen\u001b[0m\u001b[0;34m(\u001b[0m\u001b[0;34m\"englishText_450000_460000\"\u001b[0m\u001b[0;34m,\u001b[0m\u001b[0;34m'r'\u001b[0m\u001b[0;34m)\u001b[0m\u001b[0;34m\u001b[0m\u001b[0m\n",
      "\u001b[0;31mFileNotFoundError\u001b[0m: [Errno 2] No such file or directory: 'englishText_0_10000'"
     ]
    }
   ],
   "source": [
    "t1=open(\"englishText_0_10000\",'r',encoding='latin-1') #precisa rodar isso pra todos os textos\n",
    "t2=open(\"englishText_450000_460000\",'r')"
   ]
  },
  {
   "cell_type": "code",
   "execution_count": 2,
   "metadata": {},
   "outputs": [],
   "source": [
    "#fiz um teste com exemplos pequenos para facilitar\n",
    "t1=''' \n",
    "<doc id=\"2790142\" title=\"Melbourne General Cemetery\" nonfiltered=\"1\" processed=\"1\" dbindex=\"10000\">\n",
    "Random text here\n",
    "</doc>\n",
    "\n",
    "\n",
    "<doc id=\"263242\" title=\"Brazilian Cemetery\" nonfiltered=\"1\" processed=\"1\" dbindex=\"10000\">\n",
    "Another one\n",
    "</doc>\n",
    "\n",
    "'''"
   ]
  },
  {
   "cell_type": "code",
   "execution_count": 2,
   "metadata": {},
   "outputs": [
    {
     "ename": "AttributeError",
     "evalue": "'str' object has no attribute 'read'",
     "output_type": "error",
     "traceback": [
      "\u001b[1;31m---------------------------------------------------------------------------\u001b[0m",
      "\u001b[1;31mAttributeError\u001b[0m                            Traceback (most recent call last)",
      "\u001b[1;32m<ipython-input-2-98a00d467726>\u001b[0m in \u001b[0;36m<module>\u001b[1;34m\u001b[0m\n\u001b[1;32m----> 1\u001b[1;33m \u001b[0mk1\u001b[0m\u001b[1;33m=\u001b[0m\u001b[0mt1\u001b[0m\u001b[1;33m.\u001b[0m\u001b[0mread\u001b[0m\u001b[1;33m(\u001b[0m\u001b[1;33m)\u001b[0m\u001b[1;33m\u001b[0m\u001b[1;33m\u001b[0m\u001b[0m\n\u001b[0m\u001b[0;32m      2\u001b[0m \u001b[0mk2\u001b[0m\u001b[1;33m=\u001b[0m\u001b[0mt2\u001b[0m\u001b[1;33m.\u001b[0m\u001b[0mread\u001b[0m\u001b[1;33m(\u001b[0m\u001b[1;33m)\u001b[0m\u001b[1;33m\u001b[0m\u001b[1;33m\u001b[0m\u001b[0m\n",
      "\u001b[1;31mAttributeError\u001b[0m: 'str' object has no attribute 'read'"
     ]
    }
   ],
   "source": [
    "k1=t1.read()\n",
    "k2=t2.read()"
   ]
  },
  {
   "cell_type": "code",
   "execution_count": 3,
   "metadata": {},
   "outputs": [],
   "source": [
    "def wordsofdata(page):\n",
    "    #articles e ids tem que ter o mesmo tamanho\n",
    "    articles=re.compile(r'<doc.*?>(.*?)</doc>',re.DOTALL).findall(page) #lista com todos os textos\n",
    "    ids=re.compile(r'<doc id=\"(.*?)\" title',re.DOTALL).findall(page) #lista com todos os ids\n",
    "    dic={}\n",
    "    l=[]\n",
    "    for j in range(len(articles)):\n",
    "        texto=articles[j]\n",
    "        lista = texto.split()\n",
    "        lista={p.lower().strip(string.punctuation)for p in lista}\n",
    "        lista = {p.replace('‘','') for p in lista}\n",
    "        lista = {p.replace('“','') for p in lista}\n",
    "        lista = {p.replace('”','') for p in lista} #criei um conjunto de palavras do texto j\n",
    "        \n",
    "        novas= {x for x in lista if x not in l} #lista de palavras ainda nao adicionadas\n",
    "        repetidas=lista-novas #palavras repetidas\n",
    "        l.extend(novas)\n",
    "        \n",
    "        for k in novas:\n",
    "            if k!=\"\":\n",
    "                dic[k]={ids[j]} #crio as novas palavras\n",
    "        for p in repetidas:\n",
    "            if p !=\"\":\n",
    "                dic[p].add(ids[j]) #adiciono um novo id as repetidas\n",
    "                \n",
    "    return dic\n",
    "        \n",
    "        "
   ]
  },
  {
   "cell_type": "code",
   "execution_count": 4,
   "metadata": {},
   "outputs": [],
   "source": [
    "def final_dic(dic_list):\n",
    "    padrao=dic_list[0] # pego o primeiro dicionario como base\n",
    "    for k in range(1,len(dic_list)): #iterando sobre os outros dicionarios\n",
    "        repetidas = set(dic_list[k]).intersection(set(padrao)) #pego a interseção entre o padrao e o dic[k]\n",
    "        novas=set(dic_list[k])-set(padrao) #pego as novas palavras\n",
    "        for i in repetidas:\n",
    "            padrao[i]=padrao[i].union(dic_list[k][i]) #faço uma uniao de conjuntos como as repetidas\n",
    "        for j in novas:\n",
    "            padrao[j]=dic_list[k][j] #crio novas chaves no dicionario base para as novas\n",
    "    return padrao"
   ]
  },
  {
   "cell_type": "code",
   "execution_count": 7,
   "metadata": {
    "scrolled": true
   },
   "outputs": [],
   "source": [
    "dic=wordsofdata(t1)"
   ]
  },
  {
   "cell_type": "code",
   "execution_count": 8,
   "metadata": {},
   "outputs": [
    {
     "ename": "KeyError",
     "evalue": "0",
     "output_type": "error",
     "traceback": [
      "\u001b[0;31m---------------------------------------------------------------------------\u001b[0m",
      "\u001b[0;31mKeyError\u001b[0m                                  Traceback (most recent call last)",
      "\u001b[0;32m<ipython-input-8-c1263b064330>\u001b[0m in \u001b[0;36m<module>\u001b[0;34m()\u001b[0m\n\u001b[0;32m----> 1\u001b[0;31m \u001b[0md\u001b[0m\u001b[0;34m=\u001b[0m\u001b[0mfinal_dic\u001b[0m\u001b[0;34m(\u001b[0m\u001b[0mdic\u001b[0m\u001b[0;34m)\u001b[0m\u001b[0;34m\u001b[0m\u001b[0m\n\u001b[0m",
      "\u001b[0;32m<ipython-input-4-59c2289f387a>\u001b[0m in \u001b[0;36mfinal_dic\u001b[0;34m(dic_list)\u001b[0m\n\u001b[1;32m      1\u001b[0m \u001b[0;32mdef\u001b[0m \u001b[0mfinal_dic\u001b[0m\u001b[0;34m(\u001b[0m\u001b[0mdic_list\u001b[0m\u001b[0;34m)\u001b[0m\u001b[0;34m:\u001b[0m\u001b[0;34m\u001b[0m\u001b[0m\n\u001b[0;32m----> 2\u001b[0;31m     \u001b[0mpadrao\u001b[0m\u001b[0;34m=\u001b[0m\u001b[0mdic_list\u001b[0m\u001b[0;34m[\u001b[0m\u001b[0;36m0\u001b[0m\u001b[0;34m]\u001b[0m \u001b[0;31m# pego o primeiro dicionario como base\u001b[0m\u001b[0;34m\u001b[0m\u001b[0m\n\u001b[0m\u001b[1;32m      3\u001b[0m     \u001b[0;32mfor\u001b[0m \u001b[0mk\u001b[0m \u001b[0;32min\u001b[0m \u001b[0mrange\u001b[0m\u001b[0;34m(\u001b[0m\u001b[0;36m1\u001b[0m\u001b[0;34m,\u001b[0m\u001b[0mlen\u001b[0m\u001b[0;34m(\u001b[0m\u001b[0mdic_list\u001b[0m\u001b[0;34m)\u001b[0m\u001b[0;34m)\u001b[0m\u001b[0;34m:\u001b[0m \u001b[0;31m#iterando sobre os outros dicionarios\u001b[0m\u001b[0;34m\u001b[0m\u001b[0m\n\u001b[1;32m      4\u001b[0m         \u001b[0mrepetidas\u001b[0m \u001b[0;34m=\u001b[0m \u001b[0mset\u001b[0m\u001b[0;34m(\u001b[0m\u001b[0mdic_list\u001b[0m\u001b[0;34m[\u001b[0m\u001b[0mk\u001b[0m\u001b[0;34m]\u001b[0m\u001b[0;34m)\u001b[0m\u001b[0;34m.\u001b[0m\u001b[0mintersection\u001b[0m\u001b[0;34m(\u001b[0m\u001b[0mset\u001b[0m\u001b[0;34m(\u001b[0m\u001b[0mpadrao\u001b[0m\u001b[0;34m)\u001b[0m\u001b[0;34m)\u001b[0m \u001b[0;31m#pego a interseção entre o padrao e o dic[k]\u001b[0m\u001b[0;34m\u001b[0m\u001b[0m\n\u001b[1;32m      5\u001b[0m         \u001b[0mnovas\u001b[0m\u001b[0;34m=\u001b[0m\u001b[0mset\u001b[0m\u001b[0;34m(\u001b[0m\u001b[0mdic_list\u001b[0m\u001b[0;34m[\u001b[0m\u001b[0mk\u001b[0m\u001b[0;34m]\u001b[0m\u001b[0;34m)\u001b[0m\u001b[0;34m-\u001b[0m\u001b[0mset\u001b[0m\u001b[0;34m(\u001b[0m\u001b[0mpadrao\u001b[0m\u001b[0;34m)\u001b[0m \u001b[0;31m#pego as novas palavras\u001b[0m\u001b[0;34m\u001b[0m\u001b[0m\n",
      "\u001b[0;31mKeyError\u001b[0m: 0"
     ]
    }
   ],
   "source": [
    "d=final_dic(dic)"
   ]
  },
  {
   "cell_type": "code",
   "execution_count": 9,
   "metadata": {},
   "outputs": [],
   "source": [
    "\n",
    "testdic=str(dic)"
   ]
  },
  {
   "cell_type": "code",
   "execution_count": 10,
   "metadata": {},
   "outputs": [],
   "source": [
    "saved=open(\"mytest.txt\",'w')\n",
    "saved.write(testdic)\n",
    "saved.close()"
   ]
  },
  {
   "cell_type": "code",
   "execution_count": 11,
   "metadata": {},
   "outputs": [
    {
     "data": {
      "text/plain": [
       "\"{'here': {'2790142'}, 'random': {'2790142'}, 'one': {'263242'}, 'text': {'2790142'}, 'another': {'263242'}}\""
      ]
     },
     "execution_count": 11,
     "metadata": {},
     "output_type": "execute_result"
    }
   ],
   "source": [
    "abrindo=open(\"mytest.txt\",\"r\")\n",
    "abre=abrindo.read()\n",
    "abre"
   ]
  },
  {
   "cell_type": "code",
   "execution_count": 12,
   "metadata": {},
   "outputs": [
    {
     "data": {
      "text/plain": [
       "\"'here' '2790142' \\n'random' '2790142' \\n'one' '263242' \\n'text' '2790142' \\n'another' '263242'\""
      ]
     },
     "execution_count": 12,
     "metadata": {},
     "output_type": "execute_result"
    }
   ],
   "source": [
    "modificado=abre.replace(\"}, \",\" \\n\")\n",
    "modificado=modificado.replace(\"{\",\"\")\n",
    "modificado=modificado.replace(\"}\",\"\")\n",
    "modificado=modificado.replace(\",\",\"\")\n",
    "modificado=modificado.replace(\":\",\"\")\n",
    "modificado"
   ]
  },
  {
   "cell_type": "code",
   "execution_count": 13,
   "metadata": {},
   "outputs": [],
   "source": [
    "saved=open(\"mytest.txt\",'w')\n",
    "saved.write(modificado)\n",
    "saved.close()"
   ]
  },
  {
   "cell_type": "code",
   "execution_count": 14,
   "metadata": {},
   "outputs": [
    {
     "data": {
      "text/plain": [
       "\"'here' '2790142' \\n'random' '2790142' \\n'one' '263242' \\n'text' '2790142' \\n'another' '263242'\""
      ]
     },
     "execution_count": 14,
     "metadata": {},
     "output_type": "execute_result"
    }
   ],
   "source": [
    "modificado"
   ]
  },
  {
   "cell_type": "code",
   "execution_count": null,
   "metadata": {},
   "outputs": [],
   "source": []
  }
 ],
 "metadata": {
  "kernelspec": {
   "display_name": "Python 3",
   "language": "python",
   "name": "python3"
  },
  "language_info": {
   "codemirror_mode": {
    "name": "ipython",
    "version": 3
   },
   "file_extension": ".py",
   "mimetype": "text/x-python",
   "name": "python",
   "nbconvert_exporter": "python",
   "pygments_lexer": "ipython3",
   "version": "3.5.2"
  }
 },
 "nbformat": 4,
 "nbformat_minor": 2
}
