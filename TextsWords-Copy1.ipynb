{
 "cells": [
  {
   "cell_type": "code",
   "execution_count": 8,
   "metadata": {},
   "outputs": [],
   "source": [
    "import re\n",
    "import string"
   ]
  },
  {
   "cell_type": "code",
   "execution_count": 3,
   "metadata": {},
   "outputs": [],
   "source": [
    "t1=open(\"Corpus1\",'r',encoding='latin-1') #precisa rodar isso pra todos os textos"
   ]
  },
  {
   "cell_type": "code",
   "execution_count": 2,
   "metadata": {},
   "outputs": [
    {
     "ename": "AttributeError",
     "evalue": "'str' object has no attribute 'read'",
     "output_type": "error",
     "traceback": [
      "\u001b[1;31m---------------------------------------------------------------------------\u001b[0m",
      "\u001b[1;31mAttributeError\u001b[0m                            Traceback (most recent call last)",
      "\u001b[1;32m<ipython-input-2-98a00d467726>\u001b[0m in \u001b[0;36m<module>\u001b[1;34m\u001b[0m\n\u001b[1;32m----> 1\u001b[1;33m \u001b[0mk1\u001b[0m\u001b[1;33m=\u001b[0m\u001b[0mt1\u001b[0m\u001b[1;33m.\u001b[0m\u001b[0mread\u001b[0m\u001b[1;33m(\u001b[0m\u001b[1;33m)\u001b[0m\u001b[1;33m\u001b[0m\u001b[1;33m\u001b[0m\u001b[0m\n\u001b[0m\u001b[0;32m      2\u001b[0m \u001b[0mk2\u001b[0m\u001b[1;33m=\u001b[0m\u001b[0mt2\u001b[0m\u001b[1;33m.\u001b[0m\u001b[0mread\u001b[0m\u001b[1;33m(\u001b[0m\u001b[1;33m)\u001b[0m\u001b[1;33m\u001b[0m\u001b[1;33m\u001b[0m\u001b[0m\n",
      "\u001b[1;31mAttributeError\u001b[0m: 'str' object has no attribute 'read'"
     ]
    }
   ],
   "source": [
    "k1=t1.read()"
   ]
  },
  {
   "cell_type": "code",
   "execution_count": 4,
   "metadata": {},
   "outputs": [],
   "source": [
    "def wordsofdata(page):\n",
    "    #articles e ids tem que ter o mesmo tamanho\n",
    "    articles=re.compile(r'<doc.*?>(.*?)</doc>',re.DOTALL).findall(page) #lista com todos os textos\n",
    "    ids=re.compile(r'<doc id=\"(.*?)\" title',re.DOTALL).findall(page) #lista com todos os ids\n",
    "    dic={}\n",
    "    l=[]\n",
    "    for j in range(len(articles)):\n",
    "        texto=articles[j]\n",
    "        lista = texto.split()\n",
    "        lista={p.lower().strip(string.punctuation)for p in lista}\n",
    "        lista = {p.replace('‘','') for p in lista}\n",
    "        lista = {p.replace('“','') for p in lista}\n",
    "        lista = {p.replace('”','') for p in lista} #criei um conjunto de palavras do texto j\n",
    "        \n",
    "        novas= {x for x in lista if x not in l} #lista de palavras ainda nao adicionadas\n",
    "        repetidas=lista-novas #palavras repetidas\n",
    "        l.extend(novas)\n",
    "        \n",
    "        for k in novas:\n",
    "            if k!=\"\":\n",
    "                dic[k]={ids[j]} #crio as novas palavras\n",
    "        for p in repetidas:\n",
    "            if p !=\"\":\n",
    "                dic[p].add(ids[j]) #adiciono um novo id as repetidas\n",
    "                \n",
    "    return dic\n",
    "        \n",
    "        "
   ]
  },
  {
   "cell_type": "code",
   "execution_count": 5,
   "metadata": {},
   "outputs": [],
   "source": [
    "def final_dic(dic_list):\n",
    "    padrao=dic_list[0] # pego o primeiro dicionario como base\n",
    "    for k in range(1,len(dic_list)): #iterando sobre os outros dicionarios\n",
    "        repetidas = set(dic_list[k]).intersection(set(padrao)) #pego a interseção entre o padrao e o dic[k]\n",
    "        novas=set(dic_list[k])-set(padrao) #pego as novas palavras\n",
    "        for i in repetidas:\n",
    "            padrao[i]=padrao[i].union(dic_list[k][i]) #faço uma uniao de conjuntos como as repetidas\n",
    "        for j in novas:\n",
    "            padrao[j]=dic_list[k][j] #crio novas chaves no dicionario base para as novas\n",
    "    return padrao"
   ]
  },
  {
   "cell_type": "code",
   "execution_count": 9,
   "metadata": {
    "scrolled": true
   },
   "outputs": [],
   "source": [
    "dic=wordsofdata(k1)"
   ]
  },
  {
   "cell_type": "code",
   "execution_count": 11,
   "metadata": {},
   "outputs": [],
   "source": [
    "newdic=str(dic)"
   ]
  },
  {
   "cell_type": "code",
   "execution_count": 12,
   "metadata": {},
   "outputs": [],
   "source": [
    "saved=open(\"texto1.txt\",'w')\n",
    "saved.write(newdic)\n",
    "saved.close()"
   ]
  },
  {
   "cell_type": "code",
   "execution_count": 13,
   "metadata": {},
   "outputs": [
    {
     "data": {
      "text/plain": [
       "\"{'random': {'2790142'}, 'text': {'2790142'}, 'here': {'2790142'}, 'one': {'263242'}, 'another': {'263242'}}\""
      ]
     },
     "execution_count": 13,
     "metadata": {},
     "output_type": "execute_result"
    }
   ],
   "source": [
    "abrindo=open(\"texto1.txt\",\"r\")\n",
    "abre=abrindo.read()"
   ]
  },
  {
   "cell_type": "code",
   "execution_count": 21,
   "metadata": {},
   "outputs": [
    {
     "data": {
      "text/plain": [
       "\"'random' '2790142' \\n'text' '2790142' \\n'here' '2790142' \\n'one' '263242' \\n'another' '263242'\""
      ]
     },
     "execution_count": 21,
     "metadata": {},
     "output_type": "execute_result"
    }
   ],
   "source": [
    "modificado=abre.replace(\"}, \",\" \\n\")\n",
    "modificado=modificado.replace(\"{\",\"\")\n",
    "modificado=modificado.replace(\"}\",\"\")\n",
    "modificado=modificado.replace(\",\",\"\")\n",
    "modificado=modificado.replace(\":\",\"\")\n",
    "modificado"
   ]
  },
  {
   "cell_type": "code",
   "execution_count": 22,
   "metadata": {},
   "outputs": [],
   "source": [
    "saved=open(\"texto1.txt\",'w')\n",
    "saved.write(modificado)\n",
    "saved.close()"
   ]
  }
 ],
 "metadata": {
  "kernelspec": {
   "display_name": "Python 3",
   "language": "python",
   "name": "python3"
  },
  "language_info": {
   "codemirror_mode": {
    "name": "ipython",
    "version": 3
   },
   "file_extension": ".py",
   "mimetype": "text/x-python",
   "name": "python",
   "nbconvert_exporter": "python",
   "pygments_lexer": "ipython3",
   "version": "3.5.2"
  }
 },
 "nbformat": 4,
 "nbformat_minor": 2
}
