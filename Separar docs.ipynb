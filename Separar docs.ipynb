{
 "cells": [
  {
   "cell_type": "code",
   "execution_count": 41,
   "metadata": {},
   "outputs": [],
   "source": [
    "import re\n",
    "import string\n",
    "import codecs \n",
    "import os"
   ]
  },
  {
   "cell_type": "code",
   "execution_count": 42,
   "metadata": {},
   "outputs": [],
   "source": [
    "def cadu(texto):\n",
    "    articles=re.compile(r'<doc.*?>(.*?)</doc>',re.DOTALL).findall(texto) #lista com todos os textos\n",
    "    ids=re.compile(r'<doc id=\"(.*?)\" title',re.DOTALL).findall(texto) #lista com todos os ids\n",
    "    for i in range(len(articles)):\n",
    "        file = open(\"docs/doc_\"+str(int(ids[i])//10000)+\"/doc_\"+ids[i],\"a+\")\n",
    "        file.write(articles[i])\n",
    "        file.close()\n"
   ]
  },
  {
   "cell_type": "code",
   "execution_count": 43,
   "metadata": {},
   "outputs": [],
   "source": [
    "for i in range(1001):\n",
    "    os.mkdir('docs\\doc_'+str(i))"
   ]
  },
  {
   "cell_type": "code",
   "execution_count": null,
   "metadata": {},
   "outputs": [],
   "source": [
    "files = os.listdir(\"cadu\")\n",
    "d=0\n",
    "for f in files:\n",
    "    t=open(\"cadu/\"+ f, encoding='cp1252')\n",
    "    k=t.read()\n",
    "    cadu(k)\n",
    "    t.close\n",
    "    d+=1\n",
    "    print(d)"
   ]
  }
 ],
 "metadata": {
  "kernelspec": {
   "display_name": "Python 3",
   "language": "python",
   "name": "python3"
  },
  "language_info": {
   "codemirror_mode": {
    "name": "ipython",
    "version": 3
   },
   "file_extension": ".py",
   "mimetype": "text/x-python",
   "name": "python",
   "nbconvert_exporter": "python",
   "pygments_lexer": "ipython3",
   "version": "3.5.2"
  }
 },
 "nbformat": 4,
 "nbformat_minor": 2
}
